{
 "cells": [
  {
   "cell_type": "code",
   "execution_count": 1,
   "metadata": {},
   "outputs": [],
   "source": [
    "from matplotlib import pyplot as plt\n",
    "import numpy as np\n",
    "import pandas as pd\n",
    "import os\n",
    "from scipy.optimize import minimize"
   ]
  },
  {
   "cell_type": "code",
   "execution_count": 8,
   "metadata": {
    "jupyter": {
     "source_hidden": true
    }
   },
   "outputs": [],
   "source": [
    "omega_t = np.loadtxt(\"Omega_t.csv\")\n",
    "spin_precessed = np.loadtxt(\"spin_precessed.csv\")"
   ]
  },
  {
   "cell_type": "code",
   "execution_count": 7,
   "metadata": {
    "collapsed": true,
    "jupyter": {
     "outputs_hidden": true,
     "source_hidden": true
    }
   },
   "outputs": [
    {
     "data": {
      "text/plain": [
       "(array([  649.,  1804.,  1798.,  1608.,  1581.,  1566.,  1499.,  1489.,\n",
       "         1554.,  1482.,  1601.,  1561.,  1583.,  1718.,  1604.,  1677.,\n",
       "         1758.,  1786.,  1802.,  1880.,  1922.,  2020.,  2045.,  2137.,\n",
       "         2283.,  2277.,  2393.,  2464.,  2613.,  2750.,  2903.,  3147.,\n",
       "         3312.,  3682.,  3869.,  4074.,  4552.,  5123.,  5565.,  6420.,\n",
       "         7181.,  8489.,  9981., 12097., 15501., 19582., 24230., 28705.,\n",
       "        32697., 36211.]),\n",
       " array([0.00353423, 0.01844227, 0.0333503 , 0.04825834, 0.06316637,\n",
       "        0.07807441, 0.09298244, 0.10789048, 0.12279851, 0.13770655,\n",
       "        0.15261458, 0.16752262, 0.18243065, 0.19733869, 0.21224673,\n",
       "        0.22715476, 0.2420628 , 0.25697083, 0.27187887, 0.2867869 ,\n",
       "        0.30169494, 0.31660297, 0.33151101, 0.34641904, 0.36132708,\n",
       "        0.37623512, 0.39114315, 0.40605119, 0.42095922, 0.43586726,\n",
       "        0.45077529, 0.46568333, 0.48059136, 0.4954994 , 0.51040743,\n",
       "        0.52531547, 0.5402235 , 0.55513154, 0.57003958, 0.58494761,\n",
       "        0.59985565, 0.61476368, 0.62967172, 0.64457975, 0.65948779,\n",
       "        0.67439582, 0.68930386, 0.70421189, 0.71911993, 0.73402796,\n",
       "        0.748936  ]),\n",
       " <BarContainer object of 50 artists>)"
      ]
     },
     "execution_count": 7,
     "metadata": {},
     "output_type": "execute_result"
    },
    {
     "data": {
      "image/png": "[encoded data removed]",
      "text/plain": [
       "<Figure size 432x288 with 1 Axes>"
      ]
     },
     "metadata": {
      "needs_background": "light"
     },
     "output_type": "display_data"
    }
   ],
   "source": [
    "plt.hist(omega_t,bins=50)"
   ]
  },
  {
   "cell_type": "code",
   "execution_count": 9,
   "metadata": {
    "collapsed": true,
    "jupyter": {
     "outputs_hidden": true,
     "source_hidden": true
    }
   },
   "outputs": [
    {
     "data": {
      "text/plain": [
       "(array([35563., 15386., 12475., 10962., 10017.,  9396.,  8772.,  8576.,\n",
       "         8370.,  8027.,  7972.,  7819.,  7661.,  7691.,  7529.,  7478.,\n",
       "         7366.,  7317.,  7292.,  7093.,  7264.,  7098.,  7043.,  6923.,\n",
       "         7047.,  6832.,  6773.,  6773.,  6821.,  6844.,  7014.,  6755.,\n",
       "         6865.,  6708.,  6662.,  6870.,  6699.,  6579.,  6673.,  6702.,\n",
       "         6441.,  6639.,  6557.,  6490.,  6643.,  6558.,  6651.,  6485.,\n",
       "         6708.,  6507.]),\n",
       " array([0.119264  , 0.12730046, 0.13533692, 0.14337338, 0.15140984,\n",
       "        0.1594463 , 0.16748276, 0.17551922, 0.18355568, 0.19159214,\n",
       "        0.1996286 , 0.20766506, 0.21570152, 0.22373798, 0.23177444,\n",
       "        0.2398109 , 0.24784736, 0.25588382, 0.26392028, 0.27195674,\n",
       "        0.2799932 , 0.28802966, 0.29606612, 0.30410258, 0.31213904,\n",
       "        0.3201755 , 0.32821196, 0.33624842, 0.34428488, 0.35232134,\n",
       "        0.3603578 , 0.36839426, 0.37643072, 0.38446718, 0.39250364,\n",
       "        0.4005401 , 0.40857656, 0.41661302, 0.42464948, 0.43268594,\n",
       "        0.4407224 , 0.44875886, 0.45679532, 0.46483178, 0.47286824,\n",
       "        0.4809047 , 0.48894116, 0.49697762, 0.50501408, 0.51305054,\n",
       "        0.521087  ]),\n",
       " <BarContainer object of 50 artists>)"
      ]
     },
     "execution_count": 9,
     "metadata": {},
     "output_type": "execute_result"
    },
    {
     "data": {
      "image/png": "[encoded data removed]",
      "text/plain": [
       "<Figure size 432x288 with 1 Axes>"
      ]
     },
     "metadata": {
      "needs_background": "light"
     },
     "output_type": "display_data"
    }
   ],
   "source": [
    "plt.hist(spin_precessed,bins=50)"
   ]
  },
  {
   "cell_type": "code",
   "execution_count": 2,
   "metadata": {},
   "outputs": [
    {
     "ename": "FileNotFoundError",
     "evalue": "[Errno 2] No such file or directory: 'angles_direct/1.csv'",
     "output_type": "error",
     "traceback": [
      "\u001b[0;31m---------------------------------------------------------------------------\u001b[0m",
      "\u001b[0;31mFileNotFoundError\u001b[0m                         Traceback (most recent call last)",
      "\u001b[0;32m<ipython-input-2-eda457a7b9e4>\u001b[0m in \u001b[0;36m<module>\u001b[0;34m\u001b[0m\n\u001b[0;32m----> 1\u001b[0;31m \u001b[0mX\u001b[0m \u001b[0;34m=\u001b[0m \u001b[0mpd\u001b[0m\u001b[0;34m.\u001b[0m\u001b[0mread_csv\u001b[0m\u001b[0;34m(\u001b[0m\u001b[0;34m\"angles_direct/1.csv\"\u001b[0m\u001b[0;34m,\u001b[0m\u001b[0mnames\u001b[0m\u001b[0;34m=\u001b[0m\u001b[0;34m[\u001b[0m\u001b[0;34m'Theta'\u001b[0m\u001b[0;34m,\u001b[0m\u001b[0;34m'Phi'\u001b[0m\u001b[0;34m,\u001b[0m\u001b[0;34m'theta1'\u001b[0m\u001b[0;34m,\u001b[0m\u001b[0;34m'phi1'\u001b[0m\u001b[0;34m,\u001b[0m\u001b[0;34m'theta2'\u001b[0m\u001b[0;34m,\u001b[0m\u001b[0;34m'phi2'\u001b[0m\u001b[0;34m,\u001b[0m\u001b[0;34m'D'\u001b[0m\u001b[0;34m]\u001b[0m\u001b[0;34m)\u001b[0m\u001b[0;34m\u001b[0m\u001b[0;34m\u001b[0m\u001b[0m\n\u001b[0m",
      "\u001b[0;32m/opt/anaconda3/lib/python3.8/site-packages/pandas/io/parsers.py\u001b[0m in \u001b[0;36mread_csv\u001b[0;34m(filepath_or_buffer, sep, delimiter, header, names, index_col, usecols, squeeze, prefix, mangle_dupe_cols, dtype, engine, converters, true_values, false_values, skipinitialspace, skiprows, skipfooter, nrows, na_values, keep_default_na, na_filter, verbose, skip_blank_lines, parse_dates, infer_datetime_format, keep_date_col, date_parser, dayfirst, cache_dates, iterator, chunksize, compression, thousands, decimal, lineterminator, quotechar, quoting, doublequote, escapechar, comment, encoding, dialect, error_bad_lines, warn_bad_lines, delim_whitespace, low_memory, memory_map, float_precision)\u001b[0m\n\u001b[1;32m    684\u001b[0m     )\n\u001b[1;32m    685\u001b[0m \u001b[0;34m\u001b[0m\u001b[0m\n\u001b[0;32m--> 686\u001b[0;31m     \u001b[0;32mreturn\u001b[0m \u001b[0m_read\u001b[0m\u001b[0;34m(\u001b[0m\u001b[0mfilepath_or_buffer\u001b[0m\u001b[0;34m,\u001b[0m \u001b[0mkwds\u001b[0m\u001b[0;34m)\u001b[0m\u001b[0;34m\u001b[0m\u001b[0;34m\u001b[0m\u001b[0m\n\u001b[0m\u001b[1;32m    687\u001b[0m \u001b[0;34m\u001b[0m\u001b[0m\n\u001b[1;32m    688\u001b[0m \u001b[0;34m\u001b[0m\u001b[0m\n",
      "\u001b[0;32m/opt/anaconda3/lib/python3.8/site-packages/pandas/io/parsers.py\u001b[0m in \u001b[0;36m_read\u001b[0;34m(filepath_or_buffer, kwds)\u001b[0m\n\u001b[1;32m    450\u001b[0m \u001b[0;34m\u001b[0m\u001b[0m\n\u001b[1;32m    451\u001b[0m     \u001b[0;31m# Create the parser.\u001b[0m\u001b[0;34m\u001b[0m\u001b[0;34m\u001b[0m\u001b[0;34m\u001b[0m\u001b[0m\n\u001b[0;32m--> 452\u001b[0;31m     \u001b[0mparser\u001b[0m \u001b[0;34m=\u001b[0m \u001b[0mTextFileReader\u001b[0m\u001b[0;34m(\u001b[0m\u001b[0mfp_or_buf\u001b[0m\u001b[0;34m,\u001b[0m \u001b[0;34m**\u001b[0m\u001b[0mkwds\u001b[0m\u001b[0;34m)\u001b[0m\u001b[0;34m\u001b[0m\u001b[0;34m\u001b[0m\u001b[0m\n\u001b[0m\u001b[1;32m    453\u001b[0m \u001b[0;34m\u001b[0m\u001b[0m\n\u001b[1;32m    454\u001b[0m     \u001b[0;32mif\u001b[0m \u001b[0mchunksize\u001b[0m \u001b[0;32mor\u001b[0m \u001b[0miterator\u001b[0m\u001b[0;34m:\u001b[0m\u001b[0;34m\u001b[0m\u001b[0;34m\u001b[0m\u001b[0m\n",
      "\u001b[0;32m/opt/anaconda3/lib/python3.8/site-packages/pandas/io/parsers.py\u001b[0m in \u001b[0;36m__init__\u001b[0;34m(self, f, engine, **kwds)\u001b[0m\n\u001b[1;32m    944\u001b[0m             \u001b[0mself\u001b[0m\u001b[0;34m.\u001b[0m\u001b[0moptions\u001b[0m\u001b[0;34m[\u001b[0m\u001b[0;34m\"has_index_names\"\u001b[0m\u001b[0;34m]\u001b[0m \u001b[0;34m=\u001b[0m \u001b[0mkwds\u001b[0m\u001b[0;34m[\u001b[0m\u001b[0;34m\"has_index_names\"\u001b[0m\u001b[0;34m]\u001b[0m\u001b[0;34m\u001b[0m\u001b[0;34m\u001b[0m\u001b[0m\n\u001b[1;32m    945\u001b[0m \u001b[0;34m\u001b[0m\u001b[0m\n\u001b[0;32m--> 946\u001b[0;31m         \u001b[0mself\u001b[0m\u001b[0;34m.\u001b[0m\u001b[0m_make_engine\u001b[0m\u001b[0;34m(\u001b[0m\u001b[0mself\u001b[0m\u001b[0;34m.\u001b[0m\u001b[0mengine\u001b[0m\u001b[0;34m)\u001b[0m\u001b[0;34m\u001b[0m\u001b[0;34m\u001b[0m\u001b[0m\n\u001b[0m\u001b[1;32m    947\u001b[0m \u001b[0;34m\u001b[0m\u001b[0m\n\u001b[1;32m    948\u001b[0m     \u001b[0;32mdef\u001b[0m \u001b[0mclose\u001b[0m\u001b[0;34m(\u001b[0m\u001b[0mself\u001b[0m\u001b[0;34m)\u001b[0m\u001b[0;34m:\u001b[0m\u001b[0;34m\u001b[0m\u001b[0;34m\u001b[0m\u001b[0m\n",
      "\u001b[0;32m/opt/anaconda3/lib/python3.8/site-packages/pandas/io/parsers.py\u001b[0m in \u001b[0;36m_make_engine\u001b[0;34m(self, engine)\u001b[0m\n\u001b[1;32m   1176\u001b[0m     \u001b[0;32mdef\u001b[0m \u001b[0m_make_engine\u001b[0m\u001b[0;34m(\u001b[0m\u001b[0mself\u001b[0m\u001b[0;34m,\u001b[0m \u001b[0mengine\u001b[0m\u001b[0;34m=\u001b[0m\u001b[0;34m\"c\"\u001b[0m\u001b[0;34m)\u001b[0m\u001b[0;34m:\u001b[0m\u001b[0;34m\u001b[0m\u001b[0;34m\u001b[0m\u001b[0m\n\u001b[1;32m   1177\u001b[0m         \u001b[0;32mif\u001b[0m \u001b[0mengine\u001b[0m \u001b[0;34m==\u001b[0m \u001b[0;34m\"c\"\u001b[0m\u001b[0;34m:\u001b[0m\u001b[0;34m\u001b[0m\u001b[0;34m\u001b[0m\u001b[0m\n\u001b[0;32m-> 1178\u001b[0;31m             \u001b[0mself\u001b[0m\u001b[0;34m.\u001b[0m\u001b[0m_engine\u001b[0m \u001b[0;34m=\u001b[0m \u001b[0mCParserWrapper\u001b[0m\u001b[0;34m(\u001b[0m\u001b[0mself\u001b[0m\u001b[0;34m.\u001b[0m\u001b[0mf\u001b[0m\u001b[0;34m,\u001b[0m \u001b[0;34m**\u001b[0m\u001b[0mself\u001b[0m\u001b[0;34m.\u001b[0m\u001b[0moptions\u001b[0m\u001b[0;34m)\u001b[0m\u001b[0;34m\u001b[0m\u001b[0;34m\u001b[0m\u001b[0m\n\u001b[0m\u001b[1;32m   1179\u001b[0m         \u001b[0;32melse\u001b[0m\u001b[0;34m:\u001b[0m\u001b[0;34m\u001b[0m\u001b[0;34m\u001b[0m\u001b[0m\n\u001b[1;32m   1180\u001b[0m             \u001b[0;32mif\u001b[0m \u001b[0mengine\u001b[0m \u001b[0;34m==\u001b[0m \u001b[0;34m\"python\"\u001b[0m\u001b[0;34m:\u001b[0m\u001b[0;34m\u001b[0m\u001b[0;34m\u001b[0m\u001b[0m\n",
      "\u001b[0;32m/opt/anaconda3/lib/python3.8/site-packages/pandas/io/parsers.py\u001b[0m in \u001b[0;36m__init__\u001b[0;34m(self, src, **kwds)\u001b[0m\n\u001b[1;32m   2006\u001b[0m         \u001b[0mkwds\u001b[0m\u001b[0;34m[\u001b[0m\u001b[0;34m\"usecols\"\u001b[0m\u001b[0;34m]\u001b[0m \u001b[0;34m=\u001b[0m \u001b[0mself\u001b[0m\u001b[0;34m.\u001b[0m\u001b[0musecols\u001b[0m\u001b[0;34m\u001b[0m\u001b[0;34m\u001b[0m\u001b[0m\n\u001b[1;32m   2007\u001b[0m \u001b[0;34m\u001b[0m\u001b[0m\n\u001b[0;32m-> 2008\u001b[0;31m         \u001b[0mself\u001b[0m\u001b[0;34m.\u001b[0m\u001b[0m_reader\u001b[0m \u001b[0;34m=\u001b[0m \u001b[0mparsers\u001b[0m\u001b[0;34m.\u001b[0m\u001b[0mTextReader\u001b[0m\u001b[0;34m(\u001b[0m\u001b[0msrc\u001b[0m\u001b[0;34m,\u001b[0m \u001b[0;34m**\u001b[0m\u001b[0mkwds\u001b[0m\u001b[0;34m)\u001b[0m\u001b[0;34m\u001b[0m\u001b[0;34m\u001b[0m\u001b[0m\n\u001b[0m\u001b[1;32m   2009\u001b[0m         \u001b[0mself\u001b[0m\u001b[0;34m.\u001b[0m\u001b[0munnamed_cols\u001b[0m \u001b[0;34m=\u001b[0m \u001b[0mself\u001b[0m\u001b[0;34m.\u001b[0m\u001b[0m_reader\u001b[0m\u001b[0;34m.\u001b[0m\u001b[0munnamed_cols\u001b[0m\u001b[0;34m\u001b[0m\u001b[0;34m\u001b[0m\u001b[0m\n\u001b[1;32m   2010\u001b[0m \u001b[0;34m\u001b[0m\u001b[0m\n",
      "\u001b[0;32mpandas/_libs/parsers.pyx\u001b[0m in \u001b[0;36mpandas._libs.parsers.TextReader.__cinit__\u001b[0;34m()\u001b[0m\n",
      "\u001b[0;32mpandas/_libs/parsers.pyx\u001b[0m in \u001b[0;36mpandas._libs.parsers.TextReader._setup_parser_source\u001b[0;34m()\u001b[0m\n",
      "\u001b[0;31mFileNotFoundError\u001b[0m: [Errno 2] No such file or directory: 'angles_direct/1.csv'"
     ]
    }
   ],
   "source": [
    "X = pd.read_csv(\"angles_direct/1.csv\",names=['Theta','Phi','theta1','phi1','theta2','phi2','D'])"
   ]
  },
  {
   "cell_type": "code",
   "execution_count": 29,
   "metadata": {},
   "outputs": [
    {
     "data": {
      "text/html": [
       "<div>\n",
       "<style scoped>\n",
       "    .dataframe tbody tr th:only-of-type {\n",
       "        vertical-align: middle;\n",
       "    }\n",
       "\n",
       "    .dataframe tbody tr th {\n",
       "        vertical-align: top;\n",
       "    }\n",
       "\n",
       "    .dataframe thead th {\n",
       "        text-align: right;\n",
       "    }\n",
       "</style>\n",
       "<table border=\"1\" class=\"dataframe\">\n",
       "  <thead>\n",
       "    <tr style=\"text-align: right;\">\n",
       "      <th></th>\n",
       "      <th>Theta</th>\n",
       "      <th>Phi</th>\n",
       "      <th>theta1</th>\n",
       "      <th>phi1</th>\n",
       "      <th>theta2</th>\n",
       "      <th>phi2</th>\n",
       "      <th>D</th>\n",
       "    </tr>\n",
       "  </thead>\n",
       "  <tbody>\n",
       "    <tr>\n",
       "      <th>0</th>\n",
       "      <td>0.816701</td>\n",
       "      <td>1.888190</td>\n",
       "      <td>1.89471</td>\n",
       "      <td>2.836990</td>\n",
       "      <td>2.139910</td>\n",
       "      <td>6.124340</td>\n",
       "      <td>0.882083</td>\n",
       "    </tr>\n",
       "    <tr>\n",
       "      <th>1</th>\n",
       "      <td>1.994410</td>\n",
       "      <td>1.580290</td>\n",
       "      <td>1.27725</td>\n",
       "      <td>3.196310</td>\n",
       "      <td>2.924510</td>\n",
       "      <td>0.986120</td>\n",
       "      <td>1.111330</td>\n",
       "    </tr>\n",
       "    <tr>\n",
       "      <th>2</th>\n",
       "      <td>1.547460</td>\n",
       "      <td>0.396431</td>\n",
       "      <td>1.33959</td>\n",
       "      <td>0.400828</td>\n",
       "      <td>2.224840</td>\n",
       "      <td>0.160692</td>\n",
       "      <td>1.086540</td>\n",
       "    </tr>\n",
       "    <tr>\n",
       "      <th>3</th>\n",
       "      <td>1.703070</td>\n",
       "      <td>0.178124</td>\n",
       "      <td>1.20671</td>\n",
       "      <td>4.391760</td>\n",
       "      <td>1.074000</td>\n",
       "      <td>5.995700</td>\n",
       "      <td>1.001230</td>\n",
       "    </tr>\n",
       "    <tr>\n",
       "      <th>4</th>\n",
       "      <td>0.316265</td>\n",
       "      <td>2.192470</td>\n",
       "      <td>2.65546</td>\n",
       "      <td>3.787790</td>\n",
       "      <td>0.464559</td>\n",
       "      <td>0.176961</td>\n",
       "      <td>1.278420</td>\n",
       "    </tr>\n",
       "    <tr>\n",
       "      <th>...</th>\n",
       "      <td>...</td>\n",
       "      <td>...</td>\n",
       "      <td>...</td>\n",
       "      <td>...</td>\n",
       "      <td>...</td>\n",
       "      <td>...</td>\n",
       "      <td>...</td>\n",
       "    </tr>\n",
       "    <tr>\n",
       "      <th>269995</th>\n",
       "      <td>1.763890</td>\n",
       "      <td>5.167210</td>\n",
       "      <td>1.03060</td>\n",
       "      <td>3.878860</td>\n",
       "      <td>0.668433</td>\n",
       "      <td>4.256110</td>\n",
       "      <td>0.815616</td>\n",
       "    </tr>\n",
       "    <tr>\n",
       "      <th>269996</th>\n",
       "      <td>1.601560</td>\n",
       "      <td>1.267860</td>\n",
       "      <td>1.06227</td>\n",
       "      <td>2.354830</td>\n",
       "      <td>1.678030</td>\n",
       "      <td>3.879430</td>\n",
       "      <td>1.060880</td>\n",
       "    </tr>\n",
       "    <tr>\n",
       "      <th>269997</th>\n",
       "      <td>1.399890</td>\n",
       "      <td>0.328488</td>\n",
       "      <td>2.74600</td>\n",
       "      <td>5.957930</td>\n",
       "      <td>1.642430</td>\n",
       "      <td>6.194960</td>\n",
       "      <td>0.762690</td>\n",
       "    </tr>\n",
       "    <tr>\n",
       "      <th>269998</th>\n",
       "      <td>2.561100</td>\n",
       "      <td>3.622680</td>\n",
       "      <td>1.60101</td>\n",
       "      <td>0.042456</td>\n",
       "      <td>1.568090</td>\n",
       "      <td>0.420833</td>\n",
       "      <td>1.076460</td>\n",
       "    </tr>\n",
       "    <tr>\n",
       "      <th>269999</th>\n",
       "      <td>1.921780</td>\n",
       "      <td>0.542248</td>\n",
       "      <td>1.47279</td>\n",
       "      <td>0.778104</td>\n",
       "      <td>0.220818</td>\n",
       "      <td>1.160400</td>\n",
       "      <td>0.995616</td>\n",
       "    </tr>\n",
       "  </tbody>\n",
       "</table>\n",
       "<p>270000 rows × 7 columns</p>\n",
       "</div>"
      ],
      "text/plain": [
       "           Theta       Phi   theta1      phi1    theta2      phi2         D\n",
       "0       0.816701  1.888190  1.89471  2.836990  2.139910  6.124340  0.882083\n",
       "1       1.994410  1.580290  1.27725  3.196310  2.924510  0.986120  1.111330\n",
       "2       1.547460  0.396431  1.33959  0.400828  2.224840  0.160692  1.086540\n",
       "3       1.703070  0.178124  1.20671  4.391760  1.074000  5.995700  1.001230\n",
       "4       0.316265  2.192470  2.65546  3.787790  0.464559  0.176961  1.278420\n",
       "...          ...       ...      ...       ...       ...       ...       ...\n",
       "269995  1.763890  5.167210  1.03060  3.878860  0.668433  4.256110  0.815616\n",
       "269996  1.601560  1.267860  1.06227  2.354830  1.678030  3.879430  1.060880\n",
       "269997  1.399890  0.328488  2.74600  5.957930  1.642430  6.194960  0.762690\n",
       "269998  2.561100  3.622680  1.60101  0.042456  1.568090  0.420833  1.076460\n",
       "269999  1.921780  0.542248  1.47279  0.778104  0.220818  1.160400  0.995616\n",
       "\n",
       "[270000 rows x 7 columns]"
      ]
     },
     "execution_count": 29,
     "metadata": {},
     "output_type": "execute_result"
    }
   ],
   "source": [
    "X"
   ]
  },
  {
   "cell_type": "code",
   "execution_count": 64,
   "metadata": {},
   "outputs": [
    {
     "data": {
      "text/plain": [
       "(array([  27.,   46.,  101.,  152.,  196.,  235.,  259.,  368.,  392.,\n",
       "         404.,  472.,  521.,  614.,  662.,  741.,  806.,  834.,  998.,\n",
       "         994., 1098., 1172., 1318., 1398., 1541., 1636., 1737., 1848.,\n",
       "        2031., 2120., 2291., 2359., 2540., 2817., 3089., 3323., 3463.,\n",
       "        3950., 4428., 5259., 5476., 5475., 5466., 5466., 5762., 5588.,\n",
       "        5810., 5670., 5838., 5991., 5734., 6138., 5927., 6016., 6056.,\n",
       "        6249., 6118., 6354., 6435., 6363., 6464., 6600., 6059., 5286.,\n",
       "        4703., 4418., 4075., 3864., 3614., 3523., 3282., 3096., 2987.,\n",
       "        2800., 2646., 2488., 2331., 2187., 2092., 2078., 1820., 1771.,\n",
       "        1695., 1554., 1425., 1325., 1256., 1179., 1132., 1001.,  882.,\n",
       "         764.,  711.,  611.,  573.,  443.,  369.,  318.,  229.,  128.,\n",
       "          49.]),\n",
       " array([0.612398  , 0.62015542, 0.62791284, 0.63567026, 0.64342768,\n",
       "        0.6511851 , 0.65894252, 0.66669994, 0.67445736, 0.68221478,\n",
       "        0.6899722 , 0.69772962, 0.70548704, 0.71324446, 0.72100188,\n",
       "        0.7287593 , 0.73651672, 0.74427414, 0.75203156, 0.75978898,\n",
       "        0.7675464 , 0.77530382, 0.78306124, 0.79081866, 0.79857608,\n",
       "        0.8063335 , 0.81409092, 0.82184834, 0.82960576, 0.83736318,\n",
       "        0.8451206 , 0.85287802, 0.86063544, 0.86839286, 0.87615028,\n",
       "        0.8839077 , 0.89166512, 0.89942254, 0.90717996, 0.91493738,\n",
       "        0.9226948 , 0.93045222, 0.93820964, 0.94596706, 0.95372448,\n",
       "        0.9614819 , 0.96923932, 0.97699674, 0.98475416, 0.99251158,\n",
       "        1.000269  , 1.00802642, 1.01578384, 1.02354126, 1.03129868,\n",
       "        1.0390561 , 1.04681352, 1.05457094, 1.06232836, 1.07008578,\n",
       "        1.0778432 , 1.08560062, 1.09335804, 1.10111546, 1.10887288,\n",
       "        1.1166303 , 1.12438772, 1.13214514, 1.13990256, 1.14765998,\n",
       "        1.1554174 , 1.16317482, 1.17093224, 1.17868966, 1.18644708,\n",
       "        1.1942045 , 1.20196192, 1.20971934, 1.21747676, 1.22523418,\n",
       "        1.2329916 , 1.24074902, 1.24850644, 1.25626386, 1.26402128,\n",
       "        1.2717787 , 1.27953612, 1.28729354, 1.29505096, 1.30280838,\n",
       "        1.3105658 , 1.31832322, 1.32608064, 1.33383806, 1.34159548,\n",
       "        1.3493529 , 1.35711032, 1.36486774, 1.37262516, 1.38038258,\n",
       "        1.38814   ]),\n",
       " <BarContainer object of 100 artists>)"
      ]
     },
     "execution_count": 64,
     "metadata": {},
     "output_type": "execute_result"
    },
    {
     "data": {
      "image/png": "[encoded data removed]",
      "text/plain": [
       "<Figure size 432x288 with 1 Axes>"
      ]
     },
     "metadata": {
      "needs_background": "light"
     },
     "output_type": "display_data"
    }
   ],
   "source": [
    "plt.hist(X['D'],bins=100)"
   ]
  },
  {
   "cell_type": "code",
   "execution_count": 53,
   "metadata": {},
   "outputs": [],
   "source": [
    "def calc_spin0(theta1,phi1,alpha_1,alpha_psi):\n",
    "    temp = [0,0,0]\n",
    "    n1x = np.sin(theta1)*np.cos(phi1)\n",
    "    n1y = np.sin(theta1)*np.sin(phi1)\n",
    "    n1z = np.cos(theta1)\n",
    "    temp[0]=alpha_1*(1-alpha_psi)/(3+alpha_psi)*n1x\n",
    "    temp[1]=-alpha_1*(1-alpha_psi)/(3+alpha_psi)*n1y\n",
    "    temp[2]=-alpha_1*(1+3*alpha_psi)/(3+alpha_psi)*n1z\n",
    "    return temp;\n",
    "\n",
    "def calc_dir_LAB(Theta,Phi):\n",
    "    temp = [0,0,0]\n",
    "    temp[0] = np.sin(Theta)*np.cos(Phi)\n",
    "    temp[1] = np.sin(Theta)*np.sin(Phi)\n",
    "    temp[2] = 31.25*(np.cos(Theta)+1)\n",
    "    norm = np.sqrt(temp[0]**2+temp[1]**2+temp[2]**2)\n",
    "    temp[0] = temp[0]/norm\n",
    "    temp[1] = temp[1]/norm\n",
    "    temp[2] = temp[2]/norm\n",
    "\n",
    "    return temp;\n",
    "\n",
    "def calc_t(direction_LAB):\n",
    "    return 4/(c*0.9994878318624929*direction_LAB[2])\n",
    "\n",
    "def rotation(alfa, beta, gamma, vector):\n",
    "    temp = vector\n",
    "    R1=[[np.cos(alfa),-np.sin(alfa),0],\n",
    "        [np.sin(alfa), np.cos(alfa), 0],\n",
    "        [0, 0, 1]] \n",
    "    R2=[[np.cos(beta),0,np.sin(beta)],\n",
    "        [0, 1, 0],\n",
    "        [-np.sin(beta), 0, np.cos(beta)]]\n",
    "    R3=[[np.cos(gamma),-np.sin(gamma),0],\n",
    "        [np.sin(gamma), np.cos(gamma), 0],\n",
    "        [0, 0, 1]]    \n",
    "    return np.matmul(R1,np.matmul(R2,np.matmul(R3,temp)))\n",
    "\n",
    "def dot_product_3d(vec1,vec2):\n",
    "    return vec1[0][0]*vec2[0][0]+vec1[1][0]*vec2[1][0]+vec1[2][0]*vec2[2][0]\n",
    "\n",
    "def vector_product_3d(vec1, vec2):\n",
    "    temp = [[vec1[1][0]*vec2[2][0]-vec1[2][0]*vec2[1][0]],\n",
    "            [-vec1[0][0]*vec2[2][0]+vec1[2][0]*vec2[0][0]],\n",
    "            [vec1[0][0]*vec2[1][0]-vec1[1][0]*vec2[0][0]]]\n",
    "    return temp\n",
    "\n",
    "def calc_ang_vel_precession(direction_LAB, Theta, Phi, g):\n",
    "    muB_h=4.0261e7;    \n",
    "    Omega_x = muB_h*(g*(0-0.947*c*direction_LAB[1]*1*direction_LAB[0]));\n",
    "    Omega_y = muB_h*(g*(1-0.947*c*direction_LAB[1]*1*direction_LAB[1]));\n",
    "    Omega_z = muB_h*(g*(0-0.947*c*direction_LAB[1]*1*direction_LAB[2]));\n",
    "    temp = [[Omega_x],[Omega_y],[Omega_z]]\n",
    "    x = [[1],[0],[0]]\n",
    "    y = [[0],[1],[0]]\n",
    "    z = [[0],[0],[1]]\n",
    "    x = rotation(np.pi+Phi, np.pi-Theta, 0, x)\n",
    "    y = rotation(np.pi+Phi, np.pi-Theta, 0, y)\n",
    "    z = rotation(np.pi+Phi, np.pi-Theta, 0, z)\n",
    "    Omega_x = dot_product_3d(temp,x)\n",
    "    Omega_y = dot_product_3d(temp,y)\n",
    "    Omega_z = dot_product_3d(temp,z)\n",
    "    norm = np.sqrt(Omega_x**2+Omega_y**2+Omega_z**2)\n",
    "    veloc = [Omega_x/norm,Omega_y/norm, Omega_z/norm]\n",
    "    return norm, veloc;\n",
    "\n",
    "def calc_s_precession(Omega, ang_vel, spin0, t):\n",
    "    spin_temp = [[spin0[0]],[spin0[1]],[spin0[2]]]\n",
    "    omega_temp = [[ang_vel[0]],[ang_vel[1]],[ang_vel[2]]]\n",
    "    dot = dot_product_3d(spin_temp,omega_temp)\n",
    "    cross = vector_product_3d(spin_temp, omega_temp)\n",
    "    temp = [dot*ang_vel[0]+(spin0[0]-dot*ang_vel[0])*np.cos(Omega*t)+cross[0][0]*np.sin(Omega*t),\n",
    "            dot*ang_vel[1]+(spin0[1]-dot*ang_vel[1])*np.cos(Omega*t)+cross[1][0]*np.sin(Omega*t),\n",
    "            dot*ang_vel[2]+(spin0[2]-dot*ang_vel[2])*np.cos(Omega*t)+cross[2][0]*np.sin(Omega*t)]\n",
    "    return temp   "
   ]
  },
  {
   "cell_type": "code",
   "execution_count": 54,
   "metadata": {},
   "outputs": [],
   "source": [
    "def decay_distribution_precess(X,g,d): \n",
    "    Theta,Phi,theta1,phi1,theta2,phi2=X\n",
    "    n2x = np.sin(theta2)*np.cos(phi2)\n",
    "    n2y = np.sin(theta2)*np.sin(phi2)\n",
    "    n2z = np.cos(theta2)\n",
    "    spin0 = calc_spin0(theta1,phi1,-0.750,0.461)\n",
    "    direction_LAB = calc_dir_LAB(Theta,Phi)\n",
    "    #print(direction_LAB)\n",
    "    t = 4/(299792458*0.9994878318624929*direction_LAB[2])\n",
    "    #Omega, ang_vel = calc_ang_vel_precession(direction_LAB, Theta, Phi, g)\n",
    "    #spin_precess = calc_s_precession(Omega, ang_vel, spin0, t)\n",
    "    \n",
    "    muB_h=4.02782*10**7 \n",
    "    beta = 0.9994878318624929\n",
    "    Omega_x = muB_h*(g*(0-0.969*beta*direction_LAB[1]*1*direction_LAB[0])-d*beta*direction_LAB[2]);\n",
    "    Omega_y = muB_h*(g*(1-0.969*beta*direction_LAB[1]*1*direction_LAB[1]));\n",
    "    Omega_z = muB_h*(g*(0-0.969*beta*direction_LAB[1]*1*direction_LAB[2])+d*beta*direction_LAB[0]);\n",
    "    temp = [[Omega_x],[Omega_y],[Omega_z]]\n",
    "    alfa = np.pi+Phi\n",
    "    beta = np.pi-Theta\n",
    "    xr = [[np.cos(beta)*np.cos(alfa)],[np.sin(alfa)*np.cos(beta)],[-np.sin(beta)]]\n",
    "    yr = [[-np.sin(alfa)],[np.cos(alfa)],[0]]\n",
    "    zr = [[np.sin(beta)*np.cos(alfa)],[np.sin(alfa)*np.sin(beta)],[np.cos(beta)]]\n",
    "    Omega_xr = dot_product_3d(temp,xr)\n",
    "    Omega_yr = dot_product_3d(temp,yr)\n",
    "    Omega_zr = dot_product_3d(temp,zr)\n",
    "    Omega = np.sqrt(Omega_xr**2+Omega_yr**2+Omega_zr**2)\n",
    "    ang_vel = [Omega_xr/Omega,Omega_yr/Omega, Omega_zr/Omega]\n",
    "\n",
    "    spin_temp = [[spin0[0]],[spin0[1]],[spin0[2]]]\n",
    "    omega_temp = [[ang_vel[0]],[ang_vel[1]],[ang_vel[2]]]\n",
    "    dot = dot_product_3d(spin_temp,omega_temp)\n",
    "    cross = vector_product_3d(spin_temp, omega_temp)\n",
    "    spin_precess = [dot*ang_vel[0]+(spin0[0]-dot*ang_vel[0])*np.cos(Omega*t)+cross[0][0]*np.sin(Omega*t),\n",
    "                    dot*ang_vel[1]+(spin0[1]-dot*ang_vel[1])*np.cos(Omega*t)+cross[1][0]*np.sin(Omega*t),\n",
    "                    dot*ang_vel[2]+(spin0[2]-dot*ang_vel[2])*np.cos(Omega*t)+cross[2][0]*np.sin(Omega*t)]\n",
    "   \n",
    "    return 1-0.750*(spin_precess[0]*n2x+spin_precess[1]*n2y+spin_precess[2]*n2z)"
   ]
  },
  {
   "cell_type": "code",
   "execution_count": 66,
   "metadata": {},
   "outputs": [
    {
     "data": {
      "text/plain": [
       "270000"
      ]
     },
     "execution_count": 66,
     "metadata": {},
     "output_type": "execute_result"
    }
   ],
   "source": []
  },
  {
   "cell_type": "code",
   "execution_count": 100,
   "metadata": {},
   "outputs": [],
   "source": [
    "def log_likelihood(theta, x ,y):\n",
    "    g, d = theta\n",
    "    #model = []\n",
    "    #for i in range(len(x[0])):\n",
    "        #x1 = (x[0][i],x[1][i],x[2][i],x[3][i],x[4][i],x[5][i])\n",
    "    model = decay_distribution_precess(x,g,d)   \n",
    "    return -0.5 * np.sum((y - model) ** 2 / 1 + np.log(2*np.pi*1) )\n",
    "\n",
    "def log_prior(theta):\n",
    "    g, d = theta\n",
    "    if -2<g<-1 and -0.0001 < d < 0.0001 :\n",
    "        return 0.0\n",
    "    return -np.inf\n",
    "\n",
    "def log_probability(theta, x,y):\n",
    "    lp = log_prior(theta)\n",
    "    if not np.isfinite(lp):\n",
    "        return -np.inf\n",
    "    return lp + log_likelihood(theta, x,y)"
   ]
  },
  {
   "cell_type": "code",
   "execution_count": 101,
   "metadata": {},
   "outputs": [],
   "source": [
    "params_2 = (-1.4,0)"
   ]
  },
  {
   "cell_type": "code",
   "execution_count": 102,
   "metadata": {},
   "outputs": [
    {
     "name": "stdout",
     "output_type": "stream",
     "text": [
      "1% complete: (-1.4579924362343133, 1.3670091492861806e-05)\n",
      "2% complete: (-1.4580664152906597, -9.110516392336122e-05)\n",
      "3% complete: (-1.4579545441231265, 0.0001821635466316085)\n",
      "4% complete: (-1.4580439179142275, 0.0001064188930666682)\n",
      "5% complete: (-1.4579586506145463, 9.898849154524088e-06)\n",
      "6% complete: (-1.4579099484085454, -0.0001838548817602671)\n",
      "7% complete: (-1.458030222713267, -4.4061196542959686e-05)\n",
      "8% complete: (-1.4580279644322436, -0.00010292089454505414)\n",
      "9% complete: (-1.4580811186236933, 0.00012494433097813839)\n",
      "10% complete: (-1.4580478289069416, -0.000293817083688852)\n",
      "11% complete: (-1.4580445153323132, 0.0005008183020714189)\n",
      "12% complete: (-1.4578644551159932, -5.539360612492078e-05)\n",
      "13% complete: (-1.457873304831314, -0.00010279019933688554)\n",
      "14% complete: (-1.4580309498077737, 7.558935542917822e-07)\n",
      "15% complete: (-1.4582450784241938, 3.578482855781307e-05)\n",
      "16% complete: (-1.4581271182004854, 0.0002943684232161193)\n",
      "17% complete: (-1.4579743585276752, -6.684577087904209e-05)\n",
      "18% complete: (-1.458068263592661, 0.00019524394057859643)\n",
      "19% complete: (-1.4580139511110441, 1.8892008715906026e-05)\n",
      "20% complete: (-1.4580102688071765, -5.20867886910816e-06)\n",
      "21% complete: (-1.45795305669102, 4.582614748603465e-05)\n",
      "22% complete: (-1.4582657508444892, 0.00012289837963881632)\n",
      "23% complete: (-1.4580335760151466, -0.00010376787530417648)\n",
      "24% complete: (-1.457878887517677, -0.00021943650217332605)\n",
      "25% complete: (-1.4579155107846464, 1.8167746370665318e-06)\n",
      "26% complete: (-1.4580255762214727, 7.968777988125213e-05)\n",
      "27% complete: (-1.4580349563908839, -0.00020895759497303396)\n",
      "28% complete: (-1.458038175888046, -0.00015743601351192297)\n",
      "29% complete: (-1.4580110776041921, 1.5513062924629444e-05)\n",
      "30% complete: (-1.4579806317368373, 0.00014448204343407795)\n",
      "31% complete: (-1.457915316787079, 0.00022148080828721673)\n",
      "32% complete: (-1.4578859307257452, -3.182404019445254e-05)\n",
      "33% complete: (-1.4579978950155097, -3.101995740042373e-05)\n",
      "34% complete: (-1.4580854622931885, -3.026492207278795e-05)\n",
      "35% complete: (-1.4576811648587769, 0.0001160615678876209)\n",
      "36% complete: (-1.4579159428252297, -6.293151343230052e-05)\n",
      "37% complete: (-1.4579083691008374, 9.269263962156791e-05)\n",
      "38% complete: (-1.4579836821583783, 2.992940908012342e-05)\n",
      "39% complete: (-1.4580256540460506, -0.00012263838542302677)\n",
      "40% complete: (-1.4579547962286568, 5.651253408130997e-05)\n",
      "41% complete: (-1.4580333854445306, 2.2906255536027963e-05)\n",
      "42% complete: (-1.458004627789938, 7.071125726983778e-05)\n",
      "43% complete: (-1.4580230503148608, -5.727232703601805e-05)\n",
      "44% complete: (-1.4578460487988387, 6.418402077958782e-05)\n",
      "45% complete: (-1.4576663551368036, 8.275089188071938e-05)\n",
      "46% complete: (-1.4580000825613864, -5.161397669393578e-05)\n",
      "47% complete: (-1.45796442360577, -7.188222631390418e-05)\n",
      "48% complete: (-1.4579498909790565, -7.532196337880453e-06)\n",
      "49% complete: (-1.4579409460310564, 3.376829674099424e-05)\n",
      "50% complete: (-1.458013501815354, -5.09829863480463e-06)\n",
      "51% complete: (-1.4581224995590303, -3.997667275383166e-05)\n",
      "52% complete: (-1.4581283710758375, -0.00015028599746235813)\n",
      "53% complete: (-1.4580166755060664, -8.009151333202926e-06)\n",
      "54% complete: (-1.4581034095993826, 4.769081095558145e-05)\n",
      "55% complete: (-1.4579415381474923, 3.3825381906555765e-06)\n",
      "56% complete: (-1.457923145114829, 5.071327137478495e-05)\n",
      "57% complete: (-1.4580005871575719, -3.4960623475878372e-06)\n",
      "58% complete: (-1.4579292434814892, 0.0001313099716567359)\n",
      "59% complete: (-1.4580196454735792, -1.656815001129095e-05)\n",
      "60% complete: (-1.4579300444744887, 0.00014653732362602596)\n",
      "61% complete: (-1.4575400433179955, -3.1413335103057274e-05)\n",
      "62% complete: (-1.4579437977232292, 6.526394643714619e-05)\n",
      "63% complete: (-1.4581566982654095, 3.14650265525677e-05)\n",
      "64% complete: (-1.4580605475966004, 2.7395328312531297e-05)\n",
      "65% complete: (-1.4579257166483466, -9.091355428145824e-05)\n",
      "66% complete: (-1.4579747405797776, -9.714437382872095e-05)\n",
      "67% complete: (-1.458077841157353, 2.8736458946931546e-05)\n",
      "68% complete: (-1.458029773228128, 3.655589332908244e-06)\n",
      "69% complete: (-1.4578017266086873, -6.769878256666573e-05)\n",
      "70% complete: (-1.4579468501822443, 2.2172218865988572e-05)\n",
      "71% complete: (-1.457958082457919, 9.878280537709016e-06)\n",
      "72% complete: (-1.4579753662348813, -4.213970245530694e-05)\n",
      "73% complete: (-1.4579752020808647, 1.66807538314808e-05)\n",
      "74% complete: (-1.458218712196953, 0.00014887967022579404)\n",
      "75% complete: (-1.457997632404017, 9.872057000063112e-05)\n",
      "76% complete: (-1.457995891672803, -1.1607370354635895e-05)\n",
      "77% complete: (-1.457954272360434, 6.378089795827583e-05)\n",
      "78% complete: (-1.4580427487381051, -1.557717026797641e-05)\n",
      "79% complete: (-1.4579704874715391, -6.675583359793353e-05)\n",
      "80% complete: (-1.4580105809458106, 7.226491083231061e-05)\n",
      "81% complete: (-1.4580616088448717, -2.588222759929208e-05)\n",
      "82% complete: (-1.4579831695472962, 1.3405409306231008e-05)\n",
      "83% complete: (-1.4580784876142707, 0.00030819234095051163)\n",
      "84% complete: (-1.4580313925837953, -0.00011761880130108897)\n",
      "85% complete: (-1.4581535065838604, -0.00018496290239786948)\n",
      "86% complete: (-1.4579764509095585, -6.853898687639839e-05)\n",
      "87% complete: (-1.458046924916212, 1.3203037162769795e-05)\n",
      "88% complete: (-1.4579550835271862, -0.00016188059491080336)\n",
      "89% complete: (-1.4582354661066859, 0.0003973638107814703)\n",
      "90% complete: (-1.4580462914412833, -0.00014786352654930782)\n",
      "91% complete: (-1.4580054896874868, 2.8829788640762112e-05)\n",
      "92% complete: (-1.457682448060094, 0.0006429600411628092)\n",
      "93% complete: (-1.4578275756194305, -3.313885098883468e-05)\n",
      "94% complete: (-1.458229466515571, -2.326869466284684e-05)\n",
      "95% complete: (-1.4579865651310555, 2.7173057802843985e-06)\n",
      "96% complete: (-1.4580869521545443, 4.4294430530981816e-05)\n",
      "97% complete: (-1.4579852952073367, -7.223620068666952e-05)\n",
      "98% complete: (-1.4579950912086714, -2.4972845767290727e-05)\n",
      "99% complete: (-1.4580130414938994, -5.2440381503637105e-05)\n",
      "100% complete: (-1.457997914368848, -2.4423893544328074e-05)\n"
     ]
    }
   ],
   "source": [
    "for i in range(100):\n",
    "    X = pd.read_csv(\"angles_direct/\"+str(i+1)+\".csv\",names=['Theta','Phi','theta1','phi1','theta2','phi2','D'])\n",
    "    x = (X['Theta'].to_numpy(),X['Phi'].to_numpy(),X['theta1'].to_numpy(),X['phi1'].to_numpy(),X['theta2'].to_numpy(),X['phi2'].to_numpy())\n",
    "    y = (X['D'].to_numpy())\n",
    "    np.random.seed(42)\n",
    "    nll = lambda *args: -log_likelihood(*args)\n",
    "    initial = np.array(params_2) + 0.1 * np.random.randn(2)\n",
    "    soln = minimize(nll, initial, args=(x, y))\n",
    "    g_ml, d_ml = soln.x\n",
    "    parameters = (g_ml, d_ml)\n",
    "    print(str(i+1)+\"% complete: \"+str(parameters))\n",
    "    os.remove(\"angles_direct/\"+str(i+1)+\".csv\")\n",
    "\n"
   ]
  },
  {
   "cell_type": "code",
   "execution_count": 103,
   "metadata": {},
   "outputs": [
    {
     "data": {
      "text/plain": [
       "(-1.457997914368848, -2.4423893544328074e-05)"
      ]
     },
     "execution_count": 103,
     "metadata": {},
     "output_type": "execute_result"
    }
   ],
   "source": [
    "parameters"
   ]
  },
  {
   "cell_type": "code",
   "execution_count": 3,
   "metadata": {},
   "outputs": [],
   "source": [
    "data= pd.read_table('gd.txt',delimiter=',',header=None)"
   ]
  },
  {
   "cell_type": "code",
   "execution_count": 15,
   "metadata": {},
   "outputs": [
    {
     "data": {
      "text/plain": [
       "(array([ 5.,  5., 10., 42., 27.,  5.,  2.,  0.,  3.,  1.]),\n",
       " array([-1.45826575, -1.45819318, -1.45812061, -1.45804804, -1.45797547,\n",
       "        -1.4579029 , -1.45783033, -1.45775776, -1.45768518, -1.45761261,\n",
       "        -1.45754004]),\n",
       " <BarContainer object of 10 artists>)"
      ]
     },
     "execution_count": 15,
     "metadata": {},
     "output_type": "execute_result"
    },
    {
     "data": {
      "image/png": "[encoded data removed]",
      "text/plain": [
       "<Figure size 432x288 with 1 Axes>"
      ]
     },
     "metadata": {
      "needs_background": "light"
     },
     "output_type": "display_data"
    }
   ],
   "source": [
    "plt.hist(data[1])"
   ]
  },
  {
   "cell_type": "code",
   "execution_count": 14,
   "metadata": {},
   "outputs": [
    {
     "data": {
      "text/plain": [
       "0.00011134001408193442"
      ]
     },
     "execution_count": 14,
     "metadata": {},
     "output_type": "execute_result"
    }
   ],
   "source": [
    "np.std(data[1])"
   ]
  },
  {
   "cell_type": "code",
   "execution_count": 33,
   "metadata": {},
   "outputs": [],
   "source": [
    "X = pd.read_csv(\"Omega_t.csv\",names=['phi'])\n",
    "Xs = pd.read_csv(\"spin_precessed.csv\",names=['s2'])"
   ]
  },
  {
   "cell_type": "code",
   "execution_count": 46,
   "metadata": {},
   "outputs": [],
   "source": [
    "import matplotlib.pylab as pylab\n",
    "params = {'legend.fontsize': 'x-large',\n",
    "          'figure.figsize': (15, 5),\n",
    "         'axes.labelsize': 'x-large',\n",
    "         'axes.titlesize':'x-large',\n",
    "         'xtick.labelsize':'x-large',\n",
    "         'ytick.labelsize':'x-large'}\n",
    "pylab.rcParams.update(params)"
   ]
  },
  {
   "cell_type": "code",
   "execution_count": 47,
   "metadata": {},
   "outputs": [
    {
     "data": {
      "image/png": "[encoded data removed]",
      "text/plain": [
       "<Figure size 936x576 with 1 Axes>"
      ]
     },
     "metadata": {
      "needs_background": "light"
     },
     "output_type": "display_data"
    }
   ],
   "source": [
    "fig, ax = plt.subplots(1,1 , figsize=(13,8))\n",
    "ax.hist(X['phi'],bins=20)\n",
    "ax.set_xlabel('$\\phi$')\n",
    "ax.set_ylabel('counts')\n",
    "fig.savefig('PHI.png', format='png', dpi=1200)"
   ]
  },
  {
   "cell_type": "code",
   "execution_count": 48,
   "metadata": {},
   "outputs": [
    {
     "data": {
      "image/png": "[encoded data removed]",
      "text/plain": [
       "<Figure size 936x576 with 1 Axes>"
      ]
     },
     "metadata": {
      "needs_background": "light"
     },
     "output_type": "display_data"
    }
   ],
   "source": [
    "fig, ax = plt.subplots(1,1 , figsize=(13,8))\n",
    "ax.hist(Xs['s2'],bins=20)\n",
    "ax.set_xlabel('$|{{s}_2}|$')\n",
    "ax.set_ylabel('counts')\n",
    "fig.savefig('spin_precessed.png', format='png', dpi=1200)"
   ]
  },
  {
   "cell_type": "code",
   "execution_count": null,
   "metadata": {},
   "outputs": [],
   "source": []
  }
 ],
 "metadata": {
  "kernelspec": {
   "display_name": "Python 3",
   "language": "python",
   "name": "python3"
  },
  "language_info": {
   "codemirror_mode": {
    "name": "ipython",
    "version": 3
   },
   "file_extension": ".py",
   "mimetype": "text/x-python",
   "name": "python",
   "nbconvert_exporter": "python",
   "pygments_lexer": "ipython3",
   "version": "3.8.5"
  }
 },
 "nbformat": 4,
 "nbformat_minor": 4
}
