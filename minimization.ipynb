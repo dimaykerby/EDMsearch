{
 "cells": [
  {
   "cell_type": "code",
   "execution_count": 33,
   "metadata": {},
   "outputs": [],
   "source": [
    "import numpy as np\n",
    "from matplotlib import pyplot as plt\n",
    "from scipy.optimize import minimize\n",
    "from scipy.optimize import curve_fit\n",
    "import os\n",
    "from scipy.stats import norm , cauchy"
   ]
  },
  {
   "cell_type": "code",
   "execution_count": 2,
   "metadata": {},
   "outputs": [],
   "source": [
    "def ang_dist(X, eta):\n",
    "    theta1,phi1,theta2,phi2=X\n",
    "    n1x = np.sin(theta1)*np.cos(phi1);\n",
    "    n1y = np.sin(theta1)*np.sin(phi1);\n",
    "    n1z = np.cos(theta1);\n",
    "    n2x = np.sin(theta2)*np.cos(phi2);\n",
    "    n2y = np.sin(theta2)*np.sin(phi2);\n",
    "    n2z = np.cos(theta2);\n",
    "    return 3+0.461+(0.750*(-0.750))*((1-0.461)*(np.cos(eta)*(n1x*n2x-n1y*n2y)-np.sin(eta)*(n1y*n2x-n1x*n2y)-(1+3*0.461)*n1z*n2z))"
   ]
  },
  {
   "cell_type": "code",
   "execution_count": 4,
   "metadata": {
    "scrolled": true
   },
   "outputs": [
    {
     "name": "stdout",
     "output_type": "stream",
     "text": [
      "1% complete: [5.53160713e-06]\n",
      "2% complete: [0.0002824]\n",
      "3% complete: [-0.00026143]\n",
      "4% complete: [-0.00014375]\n",
      "5% complete: [0.00051678]\n",
      "6% complete: [-2.90116409e-05]\n",
      "7% complete: [-0.0002067]\n",
      "8% complete: [0.00042874]\n",
      "9% complete: [0.00069968]\n",
      "10% complete: [3.38891731e-05]\n",
      "11% complete: [4.17536239e-05]\n",
      "12% complete: [-0.00036396]\n",
      "13% complete: [0.00075591]\n",
      "14% complete: [0.00014641]\n",
      "15% complete: [-0.00023534]\n",
      "16% complete: [-0.00058553]\n",
      "17% complete: [-0.00056415]\n",
      "18% complete: [-0.0005672]\n",
      "19% complete: [0.0008518]\n",
      "20% complete: [-0.00019582]\n",
      "21% complete: [0.00052311]\n",
      "22% complete: [0.00153317]\n",
      "23% complete: [2.63976374e-05]\n",
      "24% complete: [9.11705638e-05]\n",
      "25% complete: [8.80913672e-05]\n",
      "26% complete: [0.00029782]\n",
      "27% complete: [7.82724969e-05]\n",
      "28% complete: [-0.00012111]\n",
      "29% complete: [0.00018239]\n",
      "30% complete: [-0.00036084]\n",
      "31% complete: [0.0003866]\n",
      "32% complete: [-0.00039705]\n",
      "33% complete: [-0.00050489]\n",
      "34% complete: [7.39216803e-05]\n",
      "35% complete: [0.00021335]\n",
      "36% complete: [0.00023586]\n",
      "37% complete: [0.00028135]\n",
      "38% complete: [0.0005813]\n",
      "39% complete: [-0.00083031]\n",
      "40% complete: [-0.00026249]\n",
      "41% complete: [-2.65294543e-05]\n",
      "42% complete: [9.89580292e-05]\n",
      "43% complete: [-0.00068444]\n",
      "44% complete: [6.52220449e-05]\n",
      "45% complete: [-7.94624791e-05]\n",
      "46% complete: [4.75424233e-05]\n",
      "47% complete: [-0.00082913]\n",
      "48% complete: [-0.0003659]\n",
      "49% complete: [0.000441]\n",
      "50% complete: [0.00053884]\n",
      "51% complete: [0.00018065]\n",
      "52% complete: [0.00049854]\n",
      "53% complete: [-0.00013059]\n",
      "54% complete: [0.00057943]\n",
      "55% complete: [8.49483783e-06]\n",
      "56% complete: [-0.00046968]\n",
      "57% complete: [0.00019853]\n",
      "58% complete: [8.99225318e-05]\n",
      "59% complete: [-0.0010612]\n",
      "60% complete: [0.00013322]\n",
      "61% complete: [-0.0005065]\n",
      "62% complete: [0.00064365]\n",
      "63% complete: [0.00042033]\n",
      "64% complete: [0.00028504]\n",
      "65% complete: [-0.00030167]\n",
      "66% complete: [0.00090707]\n",
      "67% complete: [0.00027271]\n",
      "68% complete: [-0.0004611]\n",
      "69% complete: [-2.51087174e-05]\n",
      "70% complete: [0.00041293]\n",
      "71% complete: [0.00017654]\n",
      "72% complete: [-3.94897453e-05]\n",
      "73% complete: [2.7974515e-05]\n",
      "74% complete: [0.00060453]\n",
      "75% complete: [-0.00013863]\n",
      "76% complete: [-0.00052162]\n",
      "77% complete: [-0.00021757]\n",
      "78% complete: [-0.00047241]\n",
      "79% complete: [-5.30087622e-05]\n",
      "80% complete: [-0.00016578]\n",
      "81% complete: [-0.00024993]\n",
      "82% complete: [2.80618711e-05]\n",
      "83% complete: [0.00024819]\n",
      "84% complete: [0.00093332]\n",
      "85% complete: [0.00053468]\n",
      "86% complete: [0.00031397]\n",
      "87% complete: [-0.00012658]\n",
      "88% complete: [-0.0002775]\n",
      "89% complete: [0.00063668]\n",
      "90% complete: [0.00090405]\n",
      "91% complete: [0.00020952]\n",
      "92% complete: [-0.00060594]\n",
      "93% complete: [-0.00028197]\n",
      "94% complete: [0.00056637]\n",
      "95% complete: [0.00024183]\n",
      "96% complete: [-0.0001003]\n",
      "97% complete: [0.00026586]\n",
      "98% complete: [-0.00011092]\n",
      "99% complete: [-2.14687242e-05]\n",
      "100% complete: [3.25717593e-05]\n"
     ]
    }
   ],
   "source": [
    "p0 = [0.]\n",
    "eta_val = []\n",
    "for i in range(100):\n",
    "    theta1,phi1,theta2,phi2,y_val = np.loadtxt(\"angles/\"+str(i+1)+\".csv\", dtype=float, delimiter=',', unpack =True)\n",
    "    parameters,cov=curve_fit(ang_dist, (theta1,phi1,theta2,phi2), y_val, p0)\n",
    "    eta_val.append(parameters)\n",
    "    print(str(i+1)+\"% complete: \"+str(parameters))\n",
    "    os.remove(\"angles/\"+str(i+1)+\".csv\")"
   ]
  },
  {
   "cell_type": "code",
   "execution_count": 19,
   "metadata": {},
   "outputs": [
    {
     "name": "stdout",
     "output_type": "stream",
     "text": [
      "1% complete: [0.00041823]\n",
      "2% complete: [0.00029735]\n",
      "3% complete: [-0.00018306]\n",
      "4% complete: [-0.00019349]\n",
      "5% complete: [7.49354724e-05]\n",
      "6% complete: [0.00044927]\n",
      "7% complete: [-1.60588524e-05]\n",
      "8% complete: [-0.0001412]\n",
      "9% complete: [-0.00041108]\n",
      "10% complete: [1.49990612e-05]\n",
      "11% complete: [0.00019348]\n",
      "12% complete: [0.00012673]\n",
      "13% complete: [-8.38583654e-05]\n",
      "14% complete: [-0.00056599]\n",
      "15% complete: [-0.00085823]\n",
      "16% complete: [-0.00044606]\n",
      "17% complete: [0.00052872]\n",
      "18% complete: [6.84112705e-05]\n",
      "19% complete: [0.00080475]\n",
      "20% complete: [-0.00070654]\n",
      "21% complete: [0.00042576]\n",
      "22% complete: [0.000729]\n",
      "23% complete: [-0.00014605]\n",
      "24% complete: [0.00065426]\n",
      "25% complete: [0.00035631]\n",
      "26% complete: [-0.00070915]\n",
      "27% complete: [-0.00020022]\n",
      "28% complete: [-0.0003328]\n",
      "29% complete: [0.00037582]\n",
      "30% complete: [-8.0643703e-05]\n",
      "31% complete: [0.00016167]\n",
      "32% complete: [-0.00013979]\n",
      "33% complete: [-0.00046027]\n",
      "34% complete: [3.22907386e-05]\n",
      "35% complete: [0.00011828]\n",
      "36% complete: [-0.00060748]\n",
      "37% complete: [0.00075857]\n",
      "38% complete: [-0.00061824]\n",
      "39% complete: [-0.00043467]\n",
      "40% complete: [-0.00013524]\n",
      "41% complete: [0.00015807]\n",
      "42% complete: [-0.00045108]\n",
      "43% complete: [-0.00067596]\n",
      "44% complete: [-5.3089581e-06]\n",
      "45% complete: [0.000737]\n",
      "46% complete: [-7.57441065e-05]\n",
      "47% complete: [-0.00060287]\n",
      "48% complete: [-0.00101642]\n",
      "49% complete: [-0.0008572]\n",
      "50% complete: [-0.00010065]\n",
      "51% complete: [-2.07848358e-05]\n",
      "52% complete: [-0.00047904]\n",
      "53% complete: [0.000251]\n",
      "54% complete: [0.00051088]\n",
      "55% complete: [2.59867233e-05]\n",
      "56% complete: [-0.00027143]\n",
      "57% complete: [-0.00065954]\n",
      "58% complete: [0.00054588]\n",
      "59% complete: [-0.00036346]\n",
      "60% complete: [-0.00011731]\n",
      "61% complete: [-0.00021564]\n",
      "62% complete: [-0.00067581]\n",
      "63% complete: [-0.00047318]\n",
      "64% complete: [-0.00130993]\n",
      "65% complete: [-1.80251765e-05]\n",
      "66% complete: [-0.00010286]\n",
      "67% complete: [3.15563174e-05]\n",
      "68% complete: [0.00039968]\n",
      "69% complete: [-3.84455337e-05]\n",
      "70% complete: [0.000167]\n",
      "71% complete: [0.00032598]\n",
      "72% complete: [-0.00027587]\n",
      "73% complete: [0.00023158]\n",
      "74% complete: [-0.00049201]\n",
      "75% complete: [0.00020798]\n",
      "76% complete: [3.16225165e-05]\n",
      "77% complete: [-2.93896487e-05]\n",
      "78% complete: [3.02488228e-05]\n",
      "79% complete: [0.00068479]\n",
      "80% complete: [0.00069132]\n",
      "81% complete: [-9.80918283e-05]\n",
      "82% complete: [-0.00057487]\n",
      "83% complete: [-0.00032267]\n",
      "84% complete: [0.00010632]\n",
      "85% complete: [0.00033377]\n",
      "86% complete: [0.00012905]\n",
      "87% complete: [-0.00019366]\n",
      "88% complete: [0.00012873]\n",
      "89% complete: [0.00037802]\n",
      "90% complete: [-0.00017561]\n",
      "91% complete: [-0.00029415]\n",
      "92% complete: [0.00043675]\n",
      "93% complete: [0.00054506]\n",
      "94% complete: [-0.00046382]\n",
      "95% complete: [-0.00023681]\n",
      "96% complete: [-4.50317412e-05]\n",
      "97% complete: [0.00019366]\n",
      "98% complete: [3.61145415e-06]\n",
      "99% complete: [-0.00019814]\n",
      "100% complete: [-0.00021199]\n"
     ]
    }
   ],
   "source": [
    "p0 = [0.]\n",
    "for i in range(100):\n",
    "    theta1,phi1,theta2,phi2,y_val = np.loadtxt(\"angles/\"+str(i+1)+\".csv\", dtype=float, delimiter=',', unpack =True)\n",
    "    parameters,cov=curve_fit(ang_dist, (theta1,phi1,theta2,phi2), y_val, p0)\n",
    "    eta_val.append(parameters)\n",
    "    print(str(i+1)+\"% complete: \"+str(parameters))\n",
    "    os.remove(\"angles/\"+str(i+1)+\".csv\")"
   ]
  },
  {
   "cell_type": "code",
   "execution_count": 29,
   "metadata": {},
   "outputs": [],
   "source": [
    "eta_hist = []\n",
    "for i in range(200):\n",
    "    eta_hist.append(eta_val[i][0])"
   ]
  },
  {
   "cell_type": "code",
   "execution_count": 30,
   "metadata": {},
   "outputs": [
    {
     "data": {
      "text/plain": [
       "-0.00021199329864461734"
      ]
     },
     "execution_count": 30,
     "metadata": {},
     "output_type": "execute_result"
    }
   ],
   "source": [
    "eta_val[199][0]"
   ]
  },
  {
   "cell_type": "code",
   "execution_count": 31,
   "metadata": {},
   "outputs": [
    {
     "data": {
      "text/plain": [
       "(array([ 2.,  5., 26., 33., 59., 37., 25., 12.,  0.,  1.]),\n",
       " array([-0.00130993, -0.00102562, -0.00074131, -0.000457  , -0.00017269,\n",
       "         0.00011162,  0.00039593,  0.00068024,  0.00096455,  0.00124886,\n",
       "         0.00153317]),\n",
       " <BarContainer object of 10 artists>)"
      ]
     },
     "execution_count": 31,
     "metadata": {},
     "output_type": "execute_result"
    },
    {
     "data": {
      "image/png": "[encoded data removed]",
      "text/plain": [
       "<Figure size 432x288 with 1 Axes>"
      ]
     },
     "metadata": {
      "needs_background": "light"
     },
     "output_type": "display_data"
    }
   ],
   "source": []
  },
  {
   "cell_type": "code",
   "execution_count": 38,
   "metadata": {},
   "outputs": [
    {
     "data": {
      "text/plain": [
       "(array([ 1.,  0., 12., 25., 37., 59., 33., 26.,  5.,  2.]),\n",
       " array([-2.98459877e-05, -2.43113661e-05, -1.87767444e-05, -1.32421227e-05,\n",
       "        -7.70750097e-06, -2.17287928e-06,  3.36174242e-06,  8.89636411e-06,\n",
       "         1.44309858e-05,  1.99656075e-05,  2.55002292e-05]),\n",
       " <BarContainer object of 10 artists>)"
      ]
     },
     "execution_count": 38,
     "metadata": {},
     "output_type": "execute_result"
    },
    {
     "data": {
      "image/png": "[encoded data removed]",
      "text/plain": [
       "<Figure size 432x288 with 1 Axes>"
      ]
     },
     "metadata": {
      "needs_background": "light"
     },
     "output_type": "display_data"
    }
   ],
   "source": [
    "plt.hist(2/9*(1-0.461)/(3+0.461)*0.750*(-0.750)*np.sin(eta_hist))"
   ]
  },
  {
   "cell_type": "code",
   "execution_count": 42,
   "metadata": {},
   "outputs": [
    {
     "name": "stdout",
     "output_type": "stream",
     "text": [
      "FIT PARAMETERS:\tmu = -2.0377748313215752e-08 \tsigma = 8.417195101275829e-06\n"
     ]
    },
    {
     "data": {
      "image/png": "[encoded data removed]",
      "text/plain": [
       "<Figure size 936x576 with 1 Axes>"
      ]
     },
     "metadata": {
      "needs_background": "light"
     },
     "output_type": "display_data"
    }
   ],
   "source": [
    "s = 2/9*(1-0.461)/(3+0.461)*0.750*(-0.750)*np.sin(eta_hist)\n",
    "fig, ax = plt.subplots(1,1 , figsize=(13,8))\n",
    "ax.hist(s,bins=25,histtype='step',density=True,label='g factor')\n",
    "mu, std = norm.fit(s)\n",
    "x = np.linspace(min(s), 0-min(s), 100)\n",
    "p = norm.pdf(x, mu, std)\n",
    "ax.plot(x, p, color='red', linewidth=2, label='fitted gaussian')\n",
    "print('FIT PARAMETERS:\\tmu =', mu, '\\tsigma =', std)\n",
    "ax.set_xlabel('$\\eta$')\n",
    "ax.set_ylabel('normalised counts')\n",
    "ax.legend()\n",
    "fig.savefig('gaussian_g_not_d.svg', format='svg', dpi=1200)"
   ]
  },
  {
   "cell_type": "code",
   "execution_count": 43,
   "metadata": {},
   "outputs": [
    {
     "data": {
      "text/plain": [
       "0.038259977733071944"
      ]
     },
     "execution_count": 43,
     "metadata": {},
     "output_type": "execute_result"
    }
   ],
   "source": [
    "std/(2.2*10**(-4))"
   ]
  },
  {
   "cell_type": "code",
   "execution_count": null,
   "metadata": {},
   "outputs": [],
   "source": []
  }
 ],
 "metadata": {
  "kernelspec": {
   "display_name": "Python 3",
   "language": "python",
   "name": "python3"
  },
  "language_info": {
   "codemirror_mode": {
    "name": "ipython",
    "version": 3
   },
   "file_extension": ".py",
   "mimetype": "text/x-python",
   "name": "python",
   "nbconvert_exporter": "python",
   "pygments_lexer": "ipython3",
   "version": "3.8.5"
  }
 },
 "nbformat": 4,
 "nbformat_minor": 5
}
